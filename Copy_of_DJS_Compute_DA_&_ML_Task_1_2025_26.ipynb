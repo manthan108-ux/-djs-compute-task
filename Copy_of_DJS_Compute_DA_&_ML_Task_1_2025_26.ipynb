{
  "cells": [
    {
      "cell_type": "markdown",
      "metadata": {
        "id": "PiZZfxvj57LK"
      },
      "source": [
        "**General Instructions:**\n",
        "\n",
        "*   Please make a copy of this colab notebook in your own drive and solve the questions in the copy. Do not edit the original file.\n",
        "\n",
        "*   All participants are encouraged to learn the basics of python including data types, operators, loops, conditional statements, handling user-defined input, strings, string methods, lists, list comprehension, sets, tuples, dictionaries and basic object-oriented programming concepts before coming to the interview.\n",
        "\n",
        "Beginners unfamiliar with Python are advised to watch the following tutorial before beginning Task 1.\n",
        "\n",
        "**Python Tutorial:** https://youtu.be/yVl_G-F7m8c?si=nEaJMo7Gqk-tQay1\n",
        "\n",
        "\n",
        "\n",
        "**Note:** The expected output is given in the cells below the question.\n"
      ]
    },
    {
      "cell_type": "markdown",
      "metadata": {
        "id": "FgdtUgoiauGY"
      },
      "source": [
        "# Task 1 - Basics of Python\n",
        "\n",
        "\n",
        "\n",
        "> It is the year 3032. After a year of brutal resistance, humanity has managed to slow down the alien invaders. However, the war is far from over. The aliens have begun using more sophisticated tactics, infiltrating human networks, and sabotaging supply lines. You have been recruited by the Resistance as their lead programmer, tasked with writing small but powerful scripts to help humanity survive.\n",
        "\n",
        "Your missions will range from secure communication, data cleansing, and resource tracking to infiltrator detection and digital security. Each problem you solve brings the Resistance one step closer to victory.\n",
        "\n",
        "\n",
        "\n",
        "\n"
      ]
    },
    {
      "cell_type": "markdown",
      "metadata": {
        "id": "jk_UOVbvcfJb"
      },
      "source": [
        "**Question 1:**\n",
        "The alien invaders have begun intercepting resistance transmissions. To counter this, the rebels have adopted a simple text-based encryption method:\n",
        "\n",
        "Every alternate word in a sentence is reversed.\n",
        "\n",
        "The first word stays as it is, the second is reversed, the third stays as it is, the fourth is reversed, and so on.\n",
        "\n",
        "eg:\n",
        "Input: \"We strike at dawn tomorrow\"\n",
        "Output: \"We ekirts at nwad tomorrow\"\n",
        "\n",
        "Write a function encrypt_message(message) that takes in a sentence and returns the encrypted version."
      ]
    },
    {
      "cell_type": "code",
      "execution_count": null,
      "metadata": {
        "id": "LmwLUF-kahv0"
      },
      "outputs": [],
      "source": [
        "message = \"The aliens will target the food stores first\""
      ]
    },
    {
      "cell_type": "code",
      "execution_count": null,
      "metadata": {
        "colab": {
          "base_uri": "https://localhost:8080/"
        },
        "id": "H3vbMHoYf5Q1",
        "outputId": "24a3fc32-bb59-4a21-fafd-529d68847434"
      },
      "outputs": [
        {
          "name": "stdout",
          "output_type": "stream",
          "text": [
            "The sneila will tegrat the doof stores tsrif\n"
          ]
        }
      ],
      "source": [
        "\n",
        "def encrypt_message(mes):\n",
        "    words = mes.split()\n",
        "    for i in range(len(words)):\n",
        "        if i % 2 != 0:  \n",
        "            words[i] = words[i][::-1]\n",
        "            \n",
        "    return \" \".join(words)\n",
        "mes=input(\"Enter your message:\")\n",
        "print(encrypt_message(mes))  \n",
        "\n"
      ]
    },
    {
      "cell_type": "markdown",
      "metadata": {
        "id": "gezvSe3_hgoU"
      },
      "source": [
        "**Question 2:**\n",
        "The Resistance must prioritize rations for children and the elderly. Unfortunately, the refugee registration team is overwhelmed, and the age records are a mess — some are written as strings, some have accidental letters, and others are fine.\n",
        "\n",
        "Your job is to write a function clean_and_sort_ages(data) that:\n",
        "1. Removes invalid entries (anything that isn’t purely digits).\n",
        "\n",
        "2. Converts valid entries into integers.\n",
        "\n",
        "3. Returns a clean, sorted list of ages in ascending order."
      ]
    },
    {
      "cell_type": "code",
      "execution_count": null,
      "metadata": {
        "id": "xqobzAhOunhf"
      },
      "outputs": [],
      "source": [
        "data = [\"23\", \"17\", \"thirty\", \"45\", \"19a\", \"31\", \"20\", \"twenty_seven\", \"25c\"]"
      ]
    },
    {
      "cell_type": "code",
      "execution_count": null,
      "metadata": {
        "colab": {
          "base_uri": "https://localhost:8080/"
        },
        "id": "ZHWkgegKvpgZ",
        "outputId": "87866dcf-f932-4613-ccb3-56a114b12bdf"
      },
      "outputs": [
        {
          "name": "stdout",
          "output_type": "stream",
          "text": [
            "[17, 20, 23, 31, 45]\n"
          ]
        }
      ],
      "source": [
        "def clean_and_sort_ages():\n",
        "    data = input(\"Enter ages : \").split(\",\")\n",
        "\n",
        "    ans= []\n",
        "    for i in data:\n",
        "       \n",
        "        if i.isdigit():   \n",
        "          ans.append(int(i))\n",
        "\n",
        "    return sorted(ans)\n",
        "\n",
        "print(clean_and_sort_ages())\n"
      ]
    },
    {
      "cell_type": "markdown",
      "metadata": {
        "id": "coC9Sbqd0bq0"
      },
      "source": [
        "**Question 3:** Supply crates are dropped at night by allied aircraft, but due to enemy fire, crates often scatter and the Resistance ends up with piles of mixed supplies. Each crate is labeled with a code:\n",
        "\n",
        " - \"MED-###\" for medical supplies\n",
        "\n",
        " - \"FOOD-###\" for food\n",
        "\n",
        " - \"WPN-###\" for weapons\n",
        "\n",
        "Write a function count_supplies(supplies) that counts how many of each type the rebels have."
      ]
    },
    {
      "cell_type": "code",
      "execution_count": null,
      "metadata": {
        "id": "sj5NUmpdYPDF"
      },
      "outputs": [],
      "source": [
        "supplies = [\"MED-234\", \"FOOD-789\", \"WPN-101\", \"MED-456\", \"FOOD-321\"]"
      ]
    },
    {
      "cell_type": "code",
      "execution_count": null,
      "metadata": {
        "colab": {
          "base_uri": "https://localhost:8080/"
        },
        "id": "aPuIzBQv2sSS",
        "outputId": "b09a91b5-72d2-41bc-c547-166fe5a944d5"
      },
      "outputs": [
        {
          "name": "stdout",
          "output_type": "stream",
          "text": [
            "{'MED': 2, 'FOOD': 2, 'WPN': 1}\n"
          ]
        }
      ],
      "source": [
        "def count_supplies(supplies):\n",
        "    med = foo = wp = 0\n",
        "\n",
        "    for i in supplies:\n",
        "        if i[0] == \"M\":  \n",
        "            med += 1\n",
        "        elif i[0] == \"F\": \n",
        "            foo += 1\n",
        "        elif i[0] == \"W\": \n",
        "            wp += 1\n",
        "\n",
        "    return {\"MED\": med, \"FOOD\": foo, \"WPN\": wp}\n",
        "\n",
        "supplies = input(\"Enter data: \").split(\",\")\n",
        "print(count_supplies(supplies))\n"
      ]
    },
    {
      "cell_type": "markdown",
      "metadata": {
        "id": "6z7Wr4BD8xSA"
      },
      "source": [
        "**Question 4:** The rebel scientists have been analyzing captured alien samples. They have discovered rules that can identify whether a DNA sequence is alien or human:\n",
        "\n",
        " - Alien DNA always ends with \"XZ\"\n",
        "\n",
        " - OR contains the substring \"QW\"\n",
        "\n",
        " - OR has a total length greater than 12 characters\n",
        "\n",
        "Write a function detect_aliens(dna_list) that separates sequences into two lists: Aliens and Humans."
      ]
    },
    {
      "cell_type": "code",
      "execution_count": null,
      "metadata": {
        "id": "xUCGsUO9-use"
      },
      "outputs": [],
      "source": [
        "dna_list = [\"ATCGXZ\", \"AATGQWGG\", \"TTAGCTA\", \"GATTACAGATTACA\", \"AXGTQWGGGXZ\", \"ATTGTCTA\"]"
      ]
    },
    {
      "cell_type": "code",
      "execution_count": null,
      "metadata": {
        "colab": {
          "base_uri": "https://localhost:8080/"
        },
        "id": "y7MSDDAL_ZhT",
        "outputId": "08c37e28-9083-402e-b95f-909e638ae0a1"
      },
      "outputs": [
        {
          "name": "stdout",
          "output_type": "stream",
          "text": [
            "Aliens:  ['ATCGXZ', 'AATGQWGG', 'GATTACAGATTACA', 'AXGTQWGGGXZ']\n",
            "Humans:  ['TTAGCTA', 'ATTGTCTA']\n"
          ]
        }
      ],
      "source": [
        "def detect_aliens(dna_list):\n",
        "    ali = []\n",
        "    hum = []\n",
        "\n",
        "    for i in dna_list:\n",
        "        if i.endswith(\"XZ\") or \"QW\" in i or len(i) > 12:\n",
        "            ali.append(i)\n",
        "        else:\n",
        "            hum.append(i)\n",
        "            \n",
        "    print(\"Aliens:\", ali)\n",
        "    print(\"Humans:\", hum)\n",
        "    return 0\n",
        "\n",
        "dna_list = input(\"Enter DNA sequences: \").split(\",\")\n",
        "\n",
        "res=detect_aliens(dna_list)\n"
      ]
    },
    {
      "cell_type": "markdown",
      "metadata": {
        "id": "hryYd_ubD2U8"
      },
      "source": [
        "**Question 5:** The Resistance intercepted classified intelligence files about alien commanders. Each commander is represented as a dictionary:\n",
        "\n",
        "{\"name\": \"Xeron\", \"rank\": 4, \"missions\": 20}\n",
        "\n",
        "Your task is to help the rebel analysts make sense of the data:\n",
        "\n",
        "1. Write a function sort_by_missions(commanders) → sorts the list by missions in descending order.\n",
        "\n",
        "2. Write a function sort_by_rank(commanders) → sorts the list by rank in ascending order."
      ]
    },
    {
      "cell_type": "code",
      "execution_count": null,
      "metadata": {
        "id": "XniLIPBoGrl9"
      },
      "outputs": [],
      "source": [
        "commanders = [\n",
        "    {\"name\": \"Xeron\", \"rank\": 4, \"missions\": 20},\n",
        "    {\"name\": \"Mira\", \"rank\": 2, \"missions\": 50},\n",
        "    {\"name\": \"Zara\", \"rank\": 4, \"missions\": 21},\n",
        "    {\"name\": \"Rumi\", \"rank\": 1, \"missions\": 75},\n",
        "    {\"name\": \"Larzon\", \"rank\": 5, \"missions\": 35}\n",
        "]"
      ]
    },
    {
      "cell_type": "code",
      "execution_count": null,
      "metadata": {
        "colab": {
          "base_uri": "https://localhost:8080/"
        },
        "id": "bjq8PTTOHh56",
        "outputId": "a1a035de-1277-4eb7-ab69-210394fcf280"
      },
      "outputs": [
        {
          "name": "stdout",
          "output_type": "stream",
          "text": [
            "By missions: [{'name': 'Rumi', 'rank': 1, 'missions': 75}, {'name': 'Mira', 'rank': 2, 'missions': 50}, {'name': 'Larzon', 'rank': 5, 'missions': 35}, {'name': 'Zara', 'rank': 4, 'missions': 21}, {'name': 'Xeron', 'rank': 4, 'missions': 20}]\n",
            "By rank: [{'name': 'Rumi', 'rank': 1, 'missions': 75}, {'name': 'Mira', 'rank': 2, 'missions': 50}, {'name': 'Xeron', 'rank': 4, 'missions': 20}, {'name': 'Zara', 'rank': 4, 'missions': 21}, {'name': 'Larzon', 'rank': 5, 'missions': 35}]\n"
          ]
        }
      ],
      "source": [
        "# your code here"
      ]
    },
    {
      "cell_type": "markdown",
      "metadata": {
        "id": "90Nijs1KIZZ0"
      },
      "source": [
        "**Question 6:** The Resistance maintains hidden bases across the city. Each base is marked on a map by its (x, y) coordinates. Headquarters is located at (0, 0). In case of emergencies, bases closest to HQ will receive evacuation priority.\n",
        "\n",
        "Write a function calculate_distances(coords) that:\n",
        "\n",
        " - Calculates the Euclidean distance of each base from HQ.\n",
        "\n",
        " - Returns a dictionary mapping each coordinate to its distance, rounded to 2 decimals."
      ]
    },
    {
      "cell_type": "code",
      "execution_count": null,
      "metadata": {
        "id": "qfOljsoEZ_BF"
      },
      "outputs": [],
      "source": [
        "coords = [(3, 4), (1, 1), (0, 5), (2, -2), (5, 7)]"
      ]
    },
    {
      "cell_type": "code",
      "execution_count": null,
      "metadata": {
        "colab": {
          "base_uri": "https://localhost:8080/"
        },
        "id": "gnI1a0TFLoqh",
        "outputId": "0323cb9c-1259-4d6b-810d-a77225dcf1f7"
      },
      "outputs": [
        {
          "name": "stdout",
          "output_type": "stream",
          "text": [
            "{(3, 4): 5.0, (1, 1): 1.41, (0, 5): 5.0, (2, -2): 2.83, (5, 7): 8.6}\n"
          ]
        }
      ],
      "source": [
        "import math\n",
        "\n",
        "def calculate_distances(coords):\n",
        "    distances = {}\n",
        "    for (x, y) in coords:\n",
        "        dist = math.sqrt(x**2 + y**2)  \n",
        "        distances[(x, y)] = round(dist, 2) \n",
        "    return distances\n",
        "\n",
        "coords = [(3, 4), (1, 1), (0, 5), (2, -2), (5, 7)]\n",
        "print(calculate_distances(coords))\n"
      ]
    },
    {
      "cell_type": "markdown",
      "metadata": {
        "id": "74iydRkwULOi"
      },
      "source": [
        "**Question 7:** The Resistance has secured safehouses with digital locks. To prevent alien infiltration, access codes must follow strict rules:\n",
        "\n",
        " - Must be exactly 8 characters long\n",
        "\n",
        " - The first 2 characters must be uppercase letters\n",
        "\n",
        " - The next 2 characters must be lowercase letters\n",
        "\n",
        " - The last 4 characters must be digits\n",
        "\n",
        "Write a regex that validates a list of access codes.\n",
        "\n",
        "\n",
        "P.S. Don't forget to import the re module"
      ]
    },
    {
      "cell_type": "code",
      "execution_count": null,
      "metadata": {
        "id": "WcroHcC4VUaY"
      },
      "outputs": [],
      "source": [
        "codes = [\"ABcd1234\", \"ZZzz9999\", \"aaBB1234\", \"XYab5678\", \"QWoh9624\", \"koWT2613\"]"
      ]
    },
    {
      "cell_type": "code",
      "execution_count": null,
      "metadata": {
        "colab": {
          "base_uri": "https://localhost:8080/"
        },
        "id": "_Gj97hjmVpGG",
        "outputId": "15c37209-4ea5-4e98-e364-8b50c2ada470"
      },
      "outputs": [
        {
          "name": "stdout",
          "output_type": "stream",
          "text": [
            "Valis IDs: ['ABcd1234', 'ZZzz9999', 'XYab5678', 'QWoh9624']\n"
          ]
        }
      ],
      "source": [
        "# your code here"
      ]
    },
    {
      "cell_type": "markdown",
      "metadata": {
        "id": "ZlnxyGHm7z0J"
      },
      "source": [
        "For a better understanding of Regular Expressions: https://realpython.com/regex-python/"
      ]
    }
  ],
  "metadata": {
    "colab": {
      "provenance": []
    },
    "kernelspec": {
      "display_name": "Python 3",
      "name": "python3"
    },
    "language_info": {
      "name": "python"
    }
  },
  "nbformat": 4,
  "nbformat_minor": 0
}
